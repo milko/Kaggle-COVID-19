{
 "cells": [
  {
   "cell_type": "code",
   "execution_count": 1,
   "metadata": {},
   "outputs": [
    {
     "data": {
      "text/plain": [
       "['coders_against_covid',\n",
       " 'county_health_rankings',\n",
       " 'canada_open_data_working_group',\n",
       " 'covid_tracker_canada',\n",
       " 'covid_sources_for_counties',\n",
       " 'covid_sources_for_states',\n",
       " 'covid_statistics_for_states_daily',\n",
       " 'ecdc_worldwide',\n",
       " 'cdcs_social_vulnerability_index_tract_level',\n",
       " 'cdcs_social_vulnerability_index_county_level',\n",
       " 'cdphe_health_facilities',\n",
       " 'coronavirus_world_airport_impacts',\n",
       " 'definitive_healthcare_usa_hospital_beds',\n",
       " 'border_wait_times_at_us_canada_border',\n",
       " 'github_belgium_regions',\n",
       " 'github_italy_regions',\n",
       " 'github_uk_regions',\n",
       " 'github_france_regions',\n",
       " 'github_spain_regions',\n",
       " 'harvard_global_health_institute_20',\n",
       " 'harvard_global_health_institute_40',\n",
       " 'harvard_global_health_institute_60',\n",
       " 'hde_acaps_government_measures',\n",
       " 'hde_global_school_closures',\n",
       " 'hde_inform_covid_indicators',\n",
       " 'hde_total_covid_tests',\n",
       " 'hifld_aircraft_landing_facilities',\n",
       " 'hifld_hospitals',\n",
       " 'hifld_local_emergency_operations_centers',\n",
       " 'hifld_nursing_homes',\n",
       " 'hifld_public_health_departments',\n",
       " 'hifld_urgent_care_facilities',\n",
       " 'hifld_us_ports_of_entry',\n",
       " 'ihme_hospitalisation',\n",
       " 'nextstrain_phylogeny',\n",
       " 'owd_tests_conducted',\n",
       " 'wfp_travel_restrictions',\n",
       " 'cdc_cities_census_tract_level',\n",
       " 'cdc_global_adult_tobacco_survey',\n",
       " 'cdc_global_youth_tobacco_survey',\n",
       " 'cdc_behavioral_risk_factor_surveillance',\n",
       " 'cdc_chronic_disease_indicators',\n",
       " 'usafacts_covid_19_by_county']"
      ]
     },
     "execution_count": 1,
     "metadata": {},
     "output_type": "execute_result"
    }
   ],
   "source": [
    "import re\n",
    "import numpy as np\n",
    "import pandas as pd\n",
    "from kaggle_covid_19.database import *\n",
    "db = Database(\n",
    "    user='playgrounds',\n",
    "    pswd='playgrounds'\n",
    ")\n",
    "db.known_datasets_"
   ]
  },
  {
   "cell_type": "code",
   "execution_count": null,
   "metadata": {},
   "outputs": [],
   "source": [
    "kFILE_PATH = '/Users/milko/Local/Data/Disease/Kaggle-COVID-19/coders_against_covid/crowd-sourced-covid-19-testing-locations.csv'\n",
    "db.load_file(kFILE_PATH, 'coders_against_covid')"
   ]
  },
  {
   "cell_type": "code",
   "execution_count": null,
   "metadata": {},
   "outputs": [],
   "source": [
    "kFILE_PATH = '/Users/milko/Local/Data/Disease/Kaggle-COVID-19/county_health_rankings/county_health_rankings/us-county-health-rankings-2020.csv'\n",
    "db.load_file(kFILE_PATH, 'county_health_rankings')"
   ]
  },
  {
   "cell_type": "code",
   "execution_count": null,
   "metadata": {},
   "outputs": [],
   "source": [
    "kFILE_PATH = '/Users/milko/Local/Data/Disease/Kaggle-COVID-19/covid_19_canada_open_data_working_group/public-covid-19-cases-canada.csv'\n",
    "db.load_file(kFILE_PATH, 'canada_open_data_working_group')"
   ]
  },
  {
   "cell_type": "code",
   "execution_count": null,
   "metadata": {},
   "outputs": [],
   "source": [
    "kFILE_PATH = '/Users/milko/Local/Data/Disease/Kaggle-COVID-19/covid_tracker_canada/covid-19-tracker-canada.csv'\n",
    "db.load_file(kFILE_PATH, 'covid_tracker_canada')"
   ]
  },
  {
   "cell_type": "code",
   "execution_count": null,
   "metadata": {},
   "outputs": [],
   "source": [
    "kFILE_PATH = '/Users/milko/Local/Data/Disease/Kaggle-COVID-19/covid_tracking_project/covid-sources-for-counties.csv'\n",
    "db.load_file(kFILE_PATH, 'covid_sources_for_counties')"
   ]
  },
  {
   "cell_type": "code",
   "execution_count": null,
   "metadata": {},
   "outputs": [],
   "source": [
    "kFILE_PATH = '/Users/milko/Local/Data/Disease/Kaggle-COVID-19/covid_tracking_project/covid-sources-for-us-states.csv'\n",
    "db.load_file(kFILE_PATH, 'covid_sources_for_states', do_clear=False)"
   ]
  },
  {
   "cell_type": "code",
   "execution_count": null,
   "metadata": {},
   "outputs": [],
   "source": [
    "kFILE_PATH = '/Users/milko/Local/Data/Disease/Kaggle-COVID-19/covid_tracking_project/covid-statistics-by-us-states-daily-updates.csv'\n",
    "db.load_file(kFILE_PATH, 'covid_statistics_for_states_daily')"
   ]
  },
  {
   "cell_type": "code",
   "execution_count": null,
   "metadata": {},
   "outputs": [],
   "source": [
    "kFILE_PATH = '/Users/milko/Local/Data/Disease/Kaggle-COVID-19/ECDC/current-data-on-the-geographic-distribution-of-covid-19-cases-worldwide.csv'\n",
    "db.load_file(kFILE_PATH, 'ecdc_worldwide')"
   ]
  },
  {
   "cell_type": "code",
   "execution_count": null,
   "metadata": {},
   "outputs": [],
   "source": [
    "kFILE_PATH = '/Users/milko/Local/Data/Disease/Kaggle-COVID-19/esri_covid-19/esri_covid-19/cdcs-social-vulnerability-index-svi-2016-overall-svi-census-tract-level.csv'\n",
    "db.load_file(kFILE_PATH, 'cdcs_social_vulnerability_index_tract_level')"
   ]
  },
  {
   "cell_type": "code",
   "execution_count": null,
   "metadata": {},
   "outputs": [],
   "source": [
    "kFILE_PATH = '/Users/milko/Local/Data/Disease/Kaggle-COVID-19/esri_covid-19/esri_covid-19/cdcs-social-vulnerability-index-svi-2016-overall-svi-county-level.csv'\n",
    "db.load_file(kFILE_PATH, 'cdcs_social_vulnerability_index_county_level')"
   ]
  },
  {
   "cell_type": "code",
   "execution_count": null,
   "metadata": {},
   "outputs": [],
   "source": [
    "kFILE_PATH = '/Users/milko/Local/Data/Disease/Kaggle-COVID-19/esri_covid-19/esri_covid-19/cdphe-health-facilities.csv'\n",
    "db.load_file(kFILE_PATH, 'cdphe_health_facilities')"
   ]
  },
  {
   "cell_type": "code",
   "execution_count": null,
   "metadata": {},
   "outputs": [],
   "source": [
    "kFILE_PATH = '/Users/milko/Local/Data/Disease/Kaggle-COVID-19/esri_covid-19/esri_covid-19/definitive-healthcare-usa-hospital-beds.csv'\n",
    "db.load_file(kFILE_PATH, 'definitive_healthcare_usa_hospital_beds')"
   ]
  },
  {
   "cell_type": "code",
   "execution_count": null,
   "metadata": {},
   "outputs": [],
   "source": [
    "kFILE_PATH = '/Users/milko/Local/Data/Disease/Kaggle-COVID-19/geotab/border-wait-times-at-us-canada-border.csv'\n",
    "db.load_file(kFILE_PATH, 'border_wait_times_at_us_canada_border')"
   ]
  },
  {
   "cell_type": "code",
   "execution_count": null,
   "metadata": {},
   "outputs": [],
   "source": [
    "kFILE_PATH = '/Users/milko/Local/Data/Disease/Kaggle-COVID-19/github/cases-and-deaths-by-regions-in-belgium.csv'\n",
    "db.load_file(kFILE_PATH, 'github_belgium_regions')"
   ]
  },
  {
   "cell_type": "code",
   "execution_count": null,
   "metadata": {},
   "outputs": [],
   "source": [
    "kFILE_PATH = '/Users/milko/Local/Data/Disease/Kaggle-COVID-19/github/covid-19-italy-situation-monitoring-by-region.csv'\n",
    "db.load_file(kFILE_PATH, 'github_italy_regions')"
   ]
  },
  {
   "cell_type": "code",
   "execution_count": null,
   "metadata": {},
   "outputs": [],
   "source": [
    "kFILE_PATH = '/Users/milko/Local/Data/Disease/Kaggle-COVID-19/github/covid-19-uk-historical-data.csv'\n",
    "db.load_file(kFILE_PATH, 'github_uk_regions')"
   ]
  },
  {
   "cell_type": "code",
   "execution_count": null,
   "metadata": {},
   "outputs": [],
   "source": [
    "kFILE_PATH = '/Users/milko/Local/Data/Disease/Kaggle-COVID-19/github/covid19-epidemic-french-national-data.csv'\n",
    "db.load_file(kFILE_PATH, 'github_france_regions')"
   ]
  },
  {
   "cell_type": "code",
   "execution_count": null,
   "metadata": {},
   "outputs": [],
   "source": [
    "kFILE_PATH = '/Users/milko/Local/Data/Disease/Kaggle-COVID-19/github/covid19-spain-cases.csv'\n",
    "db.load_file(kFILE_PATH, 'github_spain_regions')"
   ]
  },
  {
   "cell_type": "code",
   "execution_count": null,
   "metadata": {},
   "outputs": [],
   "source": [
    "kFILE_PATH = '/Users/milko/Local/Data/Disease/Kaggle-COVID-19/harvard_global_health_institute/hospital-capacity-by-state-20-population-contracted.csv'\n",
    "db.load_file(kFILE_PATH, 'harvard_global_health_institute_20')"
   ]
  },
  {
   "cell_type": "code",
   "execution_count": null,
   "metadata": {},
   "outputs": [],
   "source": [
    "kFILE_PATH = '/Users/milko/Local/Data/Disease/Kaggle-COVID-19/harvard_global_health_institute/hospital-capacity-by-state-40-population-contracted.csv'\n",
    "db.load_file(kFILE_PATH, 'harvard_global_health_institute_40', do_clear=False)"
   ]
  },
  {
   "cell_type": "code",
   "execution_count": null,
   "metadata": {},
   "outputs": [],
   "source": [
    "kFILE_PATH = '/Users/milko/Local/Data/Disease/Kaggle-COVID-19/harvard_global_health_institute/hospital-capacity-by-state-60-population-contracted.csv'\n",
    "db.load_file(kFILE_PATH, 'harvard_global_health_institute_60', do_clear=False)"
   ]
  },
  {
   "cell_type": "code",
   "execution_count": null,
   "metadata": {},
   "outputs": [],
   "source": [
    "kFILE_PATH = '/Users/milko/Local/Data/Disease/Kaggle-COVID-19/HDE/acaps-covid-19-government-measures-dataset.csv'\n",
    "db.load_file(kFILE_PATH, 'hde_acaps_government_measures')"
   ]
  },
  {
   "cell_type": "code",
   "execution_count": null,
   "metadata": {},
   "outputs": [],
   "source": [
    "kFILE_PATH = '/Users/milko/Local/Data/Disease/Kaggle-COVID-19/HDE/global-school-closures-covid-19.csv'\n",
    "db.load_file(kFILE_PATH, 'hde_global_school_closures')"
   ]
  },
  {
   "cell_type": "code",
   "execution_count": null,
   "metadata": {},
   "outputs": [],
   "source": [
    "kFILE_PATH = '/Users/milko/Local/Data/Disease/Kaggle-COVID-19/HDE/inform-covid-indicators.csv'\n",
    "db.load_file(kFILE_PATH, 'hde_inform_covid_indicators')"
   ]
  },
  {
   "cell_type": "code",
   "execution_count": null,
   "metadata": {},
   "outputs": [],
   "source": [
    "kFILE_PATH = '/Users/milko/Local/Data/Disease/Kaggle-COVID-19/HDE/total-covid-19-tests-performed-by-country.csv'\n",
    "db.load_file(kFILE_PATH, 'hde_total_covid_tests')"
   ]
  },
  {
   "cell_type": "code",
   "execution_count": null,
   "metadata": {},
   "outputs": [],
   "source": [
    "kFILE_PATH = '/Users/milko/Local/Data/Disease/Kaggle-COVID-19/hifld/hifld/aircraft-landing-facilities.csv'\n",
    "db.load_file(kFILE_PATH, 'hifld_aircraft_landing_facilities')"
   ]
  },
  {
   "cell_type": "code",
   "execution_count": null,
   "metadata": {},
   "outputs": [],
   "source": [
    "kFILE_PATH = '/Users/milko/Local/Data/Disease/Kaggle-COVID-19/hifld/hifld/hospitals.csv'\n",
    "db.load_file(kFILE_PATH, 'hifld_hospitals')"
   ]
  },
  {
   "cell_type": "code",
   "execution_count": null,
   "metadata": {},
   "outputs": [],
   "source": [
    "kFILE_PATH = '/Users/milko/Local/Data/Disease/Kaggle-COVID-19/hifld/hifld/local-emergency-operations-centers-eoc.csv'\n",
    "db.load_file(kFILE_PATH, 'hifld_local_emergency_operations_centers')"
   ]
  },
  {
   "cell_type": "code",
   "execution_count": null,
   "metadata": {},
   "outputs": [],
   "source": [
    "kFILE_PATH = '/Users/milko/Local/Data/Disease/Kaggle-COVID-19/hifld/hifld/nursing-homes.csv'\n",
    "db.load_file(kFILE_PATH, 'hifld_nursing_homes')"
   ]
  },
  {
   "cell_type": "code",
   "execution_count": null,
   "metadata": {},
   "outputs": [],
   "source": [
    "kFILE_PATH = '/Users/milko/Local/Data/Disease/Kaggle-COVID-19/hifld/hifld/public-health-departments.csv'\n",
    "db.load_file(kFILE_PATH, 'hifld_public_health_departments')"
   ]
  },
  {
   "cell_type": "code",
   "execution_count": null,
   "metadata": {},
   "outputs": [],
   "source": [
    "kFILE_PATH = '/Users/milko/Local/Data/Disease/Kaggle-COVID-19/hifld/hifld/urgent-care-facilities.csv'\n",
    "db.load_file(kFILE_PATH, 'hifld_urgent_care_facilities')"
   ]
  },
  {
   "cell_type": "code",
   "execution_count": null,
   "metadata": {},
   "outputs": [],
   "source": [
    "kFILE_PATH = '/Users/milko/Local/Data/Disease/Kaggle-COVID-19/hifld/hifld/us-ports-of-entry.csv'\n",
    "db.load_file(kFILE_PATH, 'hifld_us_ports_of_entry')"
   ]
  },
  {
   "cell_type": "code",
   "execution_count": null,
   "metadata": {},
   "outputs": [],
   "source": [
    "kFILE_PATH = '/Users/milko/Local/Data/Disease/Kaggle-COVID-19/ihme/2020_03_30/Hospitalization_all_locs.csv'\n",
    "db.load_file(kFILE_PATH, 'ihme_hospitalisation')"
   ]
  },
  {
   "cell_type": "code",
   "execution_count": null,
   "metadata": {},
   "outputs": [],
   "source": [
    "kFILE_PATH = '/Users/milko/Local/Data/Disease/Kaggle-COVID-19/nextstrain/covid-19-genetic-phylogeny.csv'\n",
    "db.load_file(kFILE_PATH, 'nextstrain_phylogeny')"
   ]
  },
  {
   "cell_type": "code",
   "execution_count": null,
   "metadata": {},
   "outputs": [],
   "source": [
    "kFILE_PATH = '/Users/milko/Local/Data/Disease/Kaggle-COVID-19/our_world_in_data/'\n",
    "db.load_file(kFILE_PATH, 'owd_tests_conducted')"
   ]
  },
  {
   "cell_type": "code",
   "execution_count": null,
   "metadata": {},
   "outputs": [],
   "source": [
    "kFILE_PATH = '/Users/milko/Local/Data/Disease/Kaggle-COVID-19/un_world_food_programme/un_world_food_programme/world-travel-restrictions.csv'\n",
    "db.load_file(kFILE_PATH, 'wfp_travel_restrictions')"
   ]
  },
  {
   "cell_type": "code",
   "execution_count": null,
   "metadata": {},
   "outputs": [],
   "source": [
    "kFILE_PATH = '/Users/milko/Local/Data/Disease/Kaggle-COVID-19/us_cdc/us_cdc/500-cities-census-tract-level-data-gis-friendly-format-2019-release.csv'\n",
    "db.load_file(kFILE_PATH, 'cdc_cities_census_tract_level')"
   ]
  },
  {
   "cell_type": "code",
   "execution_count": null,
   "metadata": {},
   "outputs": [],
   "source": [
    "kFILE_PATH = '/Users/milko/Local/Data/Disease/Kaggle-COVID-19/us_cdc/us_cdc/global-tobacco-surveillance-system-gtss-global-adult-tobacco-survey-gats.csv'\n",
    "db.load_file(kFILE_PATH, 'cdc_global_adult_tobacco_survey')"
   ]
  },
  {
   "cell_type": "code",
   "execution_count": null,
   "metadata": {},
   "outputs": [],
   "source": [
    "kFILE_PATH = '/Users/milko/Local/Data/Disease/Kaggle-COVID-19/us_cdc/us_cdc/global-tobacco-surveillance-system-gtss-global-youth-tobacco-survey-gyts.csv'\n",
    "db.load_file(kFILE_PATH, 'cdc_global_youth_tobacco_survey')"
   ]
  },
  {
   "cell_type": "code",
   "execution_count": null,
   "metadata": {},
   "outputs": [],
   "source": [
    "kFILE_PATH = '/Users/milko/Local/Data/Disease/Kaggle-COVID-19/us_cdc/us_cdc/nutrition-physical-activity-and-obesity-behavioral-risk-factor-surveillance-system.csv'\n",
    "db.load_file(kFILE_PATH, 'cdc_behavioral_risk_factor_surveillance')"
   ]
  },
  {
   "cell_type": "code",
   "execution_count": null,
   "metadata": {},
   "outputs": [],
   "source": [
    "kFILE_PATH = '/Users/milko/Local/Data/Disease/Kaggle-COVID-19/us_cdc/us_cdc/u-s-chronic-disease-indicators-cdi.csv'\n",
    "db.load_file(kFILE_PATH, 'cdc_chronic_disease_indicators')"
   ]
  },
  {
   "cell_type": "code",
   "execution_count": 2,
   "metadata": {},
   "outputs": [
    {
     "data": {
      "text/plain": [
       "221628"
      ]
     },
     "execution_count": 2,
     "metadata": {},
     "output_type": "execute_result"
    }
   ],
   "source": [
    "kFILE_PATH = '/Users/milko/Local/Data/Disease/Kaggle-COVID-19/USAFacts/'\n",
    "db.load_file(kFILE_PATH, 'usafacts_covid_19_by_county')"
   ]
  },
  {
   "cell_type": "code",
   "execution_count": null,
   "metadata": {},
   "outputs": [],
   "source": []
  },
  {
   "cell_type": "code",
   "execution_count": null,
   "metadata": {},
   "outputs": [],
   "source": []
  },
  {
   "cell_type": "code",
   "execution_count": null,
   "metadata": {},
   "outputs": [],
   "source": [
    "kFILE_PATH = '/Users/milko/Local/Data/Disease/Kaggle-COVID-19/us_cdc/us_cdc/u-s-chronic-disease-indicators-cdi.csv'\n",
    "df = pd.read_csv(kFILE_PATH)\n",
    "df.info()"
   ]
  },
  {
   "cell_type": "code",
   "execution_count": null,
   "metadata": {},
   "outputs": [],
   "source": [
    "kFILE_PATH = '/Users/milko/Local/Data/Disease/Kaggle-COVID-19/USAFacts/confirmed-covid-19-cases-in-us-by-state-and-county.csv'\n",
    "df = pd.read_csv(kFILE_PATH)\n",
    "df.shape"
   ]
  },
  {
   "cell_type": "code",
   "execution_count": null,
   "metadata": {},
   "outputs": [],
   "source": [
    "kFILE_PATH = '/Users/milko/Local/Data/Disease/Kaggle-COVID-19/USAFacts/confirmed-covid-19-deaths-in-us-by-state-and-county.csv'\n",
    "df = df.merge(\n",
    "    pd.read_csv(kFILE_PATH),\n",
    "    how='outer',\n",
    "    on=['county_fips', 'county_name', 'state_name', 'state_fips', 'date', 'lat', 'long', 'geometry']\n",
    ")"
   ]
  },
  {
   "cell_type": "code",
   "execution_count": null,
   "metadata": {},
   "outputs": [],
   "source": [
    "df['geometry']"
   ]
  },
  {
   "cell_type": "code",
   "execution_count": null,
   "metadata": {},
   "outputs": [],
   "source": []
  }
 ],
 "metadata": {
  "kernelspec": {
   "display_name": "Python 3",
   "language": "python",
   "name": "python3"
  },
  "language_info": {
   "codemirror_mode": {
    "name": "ipython",
    "version": 3
   },
   "file_extension": ".py",
   "mimetype": "text/x-python",
   "name": "python",
   "nbconvert_exporter": "python",
   "pygments_lexer": "ipython3",
   "version": "3.7.6"
  }
 },
 "nbformat": 4,
 "nbformat_minor": 4
}
