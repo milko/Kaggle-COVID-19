{
 "cells": [
  {
   "cell_type": "code",
   "execution_count": 1,
   "metadata": {},
   "outputs": [],
   "source": [
    "import re\n",
    "import numpy as np\n",
    "import pandas as pd\n",
    "from kaggle_covid_19.database import *"
   ]
  },
  {
   "cell_type": "code",
   "execution_count": 6,
   "metadata": {},
   "outputs": [
    {
     "data": {
      "text/plain": [
       "'POLYGON ((-10.11 20.22, -30.33 40.44, -50.55 60.66),(1.10 2.20), (-100.111 200.222,-200.222 300.333))'"
      ]
     },
     "execution_count": 6,
     "metadata": {},
     "output_type": "execute_result"
    }
   ],
   "source": [
    "geometry = 'POLYGON ((-10.11 20.22, -30.33 40.44, -50.55 60.66),(1.10 2.20), (-100.111 200.222,-200.222 300.333))'\n",
    "geometry"
   ]
  },
  {
   "cell_type": "code",
   "execution_count": 7,
   "metadata": {},
   "outputs": [],
   "source": [
    "pattern1 = re.compile('(((([-]?\\d+\\.\\d+) ([-]?\\d+\\.\\d+))[, ]?)+[, ]?)+')\n",
    "pattern2 = re.compile('[,][ ]?')"
   ]
  },
  {
   "cell_type": "code",
   "execution_count": 8,
   "metadata": {},
   "outputs": [
    {
     "data": {
      "text/plain": [
       "['-10.11 20.22, -30.33 40.44, -50.55 60.66',\n",
       " '1.10 2.20',\n",
       " '-100.111 200.222,-200.222 300.333']"
      ]
     },
     "execution_count": 8,
     "metadata": {},
     "output_type": "execute_result"
    }
   ],
   "source": [
    "level1 = \\\n",
    "    [\n",
    "        x.group(0) for x in\n",
    "        re.finditer(\n",
    "            pattern1,\n",
    "            geometry[8:len(geometry)]\n",
    "        )\n",
    "    ]\n",
    "level1"
   ]
  },
  {
   "cell_type": "code",
   "execution_count": 9,
   "metadata": {},
   "outputs": [
    {
     "data": {
      "text/plain": [
       "[['-10.11 20.22', '-30.33 40.44', '-50.55 60.66'],\n",
       " ['1.10 2.20'],\n",
       " ['-100.111 200.222', '-200.222 300.333']]"
      ]
     },
     "execution_count": 9,
     "metadata": {},
     "output_type": "execute_result"
    }
   ],
   "source": [
    "level2 = \\\n",
    "    [\n",
    "        re.split(pattern2, y) for y in\n",
    "        level1\n",
    "    ]\n",
    "level2"
   ]
  },
  {
   "cell_type": "code",
   "execution_count": 10,
   "metadata": {},
   "outputs": [
    {
     "data": {
      "text/plain": [
       "[[array([-10.11,  20.22]), array([-30.33,  40.44]), array([-50.55,  60.66])],\n",
       " [array([1.1, 2.2])],\n",
       " [array([-100.111,  200.222]), array([-200.222,  300.333])]]"
      ]
     },
     "execution_count": 10,
     "metadata": {},
     "output_type": "execute_result"
    }
   ],
   "source": [
    "level3 = \\\n",
    "    [\n",
    "        [\n",
    "            np.array(y.split()).astype(np.float)\n",
    "            for y in x\n",
    "        ]\n",
    "        for x in level2\n",
    "    ]\n",
    "level3"
   ]
  },
  {
   "cell_type": "markdown",
   "metadata": {},
   "source": [
    "### Put it all together"
   ]
  },
  {
   "cell_type": "code",
   "execution_count": 11,
   "metadata": {},
   "outputs": [
    {
     "data": {
      "text/plain": [
       "[[[-10.11, 20.22], [-30.33, 40.44], [-50.55, 60.66]],\n",
       " [[1.1, 2.2]],\n",
       " [[-100.111, 200.222], [-200.222, 300.333]]]"
      ]
     },
     "execution_count": 11,
     "metadata": {},
     "output_type": "execute_result"
    }
   ],
   "source": [
    "final_result = \\\n",
    "[\n",
    "    [\n",
    "        list(np.array(y.split()).astype(np.float))\n",
    "        for y in x\n",
    "    ]\n",
    "    for x in\n",
    "        [\n",
    "            re.split(pattern2, y) for y in\n",
    "            [\n",
    "                x.group(0) for x in\n",
    "                re.finditer(\n",
    "                    pattern1,\n",
    "                    geometry[8:len(geometry)]\n",
    "                )\n",
    "            ]\n",
    "        ]\n",
    "]\n",
    "final_result"
   ]
  },
  {
   "cell_type": "markdown",
   "metadata": {},
   "source": [
    "### Try points"
   ]
  },
  {
   "cell_type": "code",
   "execution_count": 12,
   "metadata": {},
   "outputs": [
    {
     "data": {
      "text/plain": [
       "'POINT (-10.11 20.22)'"
      ]
     },
     "execution_count": 12,
     "metadata": {},
     "output_type": "execute_result"
    }
   ],
   "source": [
    "geometry = 'POINT (-10.11 20.22)'\n",
    "geometry"
   ]
  },
  {
   "cell_type": "code",
   "execution_count": 17,
   "metadata": {},
   "outputs": [
    {
     "data": {
      "text/plain": [
       "'-10.11 20.22'"
      ]
     },
     "execution_count": 17,
     "metadata": {},
     "output_type": "execute_result"
    }
   ],
   "source": [
    "match = re.search(pattern1, geometry[6:len(geometry)])\n",
    "match.group(0)"
   ]
  },
  {
   "cell_type": "code",
   "execution_count": 18,
   "metadata": {},
   "outputs": [
    {
     "data": {
      "text/plain": [
       "[-10.11, 20.22]"
      ]
     },
     "execution_count": 18,
     "metadata": {},
     "output_type": "execute_result"
    }
   ],
   "source": [
    "list(np.array(match.group(0).split()).astype(np.float))"
   ]
  },
  {
   "cell_type": "code",
   "execution_count": 19,
   "metadata": {},
   "outputs": [
    {
     "data": {
      "text/plain": [
       "['POINT', '(-10.11 20.22)']"
      ]
     },
     "execution_count": 19,
     "metadata": {},
     "output_type": "execute_result"
    }
   ],
   "source": [
    "geometry.split(' ', 1)"
   ]
  },
  {
   "cell_type": "code",
   "execution_count": null,
   "metadata": {},
   "outputs": [],
   "source": []
  }
 ],
 "metadata": {
  "kernelspec": {
   "display_name": "Python 3",
   "language": "python",
   "name": "python3"
  },
  "language_info": {
   "codemirror_mode": {
    "name": "ipython",
    "version": 3
   },
   "file_extension": ".py",
   "mimetype": "text/x-python",
   "name": "python",
   "nbconvert_exporter": "python",
   "pygments_lexer": "ipython3",
   "version": "3.7.6"
  }
 },
 "nbformat": 4,
 "nbformat_minor": 4
}
