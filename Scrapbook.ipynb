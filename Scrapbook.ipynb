{
 "cells": [
  {
   "cell_type": "code",
   "execution_count": 1,
   "metadata": {},
   "outputs": [],
   "source": [
    "import pandas as pd\n",
    "from kaggle_covid_19.database import *"
   ]
  },
  {
   "cell_type": "code",
   "execution_count": 2,
   "metadata": {},
   "outputs": [],
   "source": [
    "db = Database(\n",
    "    user='playgrounds',\n",
    "    pswd='playgrounds'\n",
    ")"
   ]
  },
  {
   "cell_type": "code",
   "execution_count": 3,
   "metadata": {},
   "outputs": [
    {
     "data": {
      "text/plain": [
       "['coders_against_covid',\n",
       " 'county_health_rankings',\n",
       " 'canada_open_data_working_group',\n",
       " 'covid_tracker_canada',\n",
       " 'covid_sources_for_counties',\n",
       " 'covid_sources_for_states',\n",
       " 'covid_statistics_for_states_daily',\n",
       " 'ecdc_worldwide']"
      ]
     },
     "execution_count": 3,
     "metadata": {},
     "output_type": "execute_result"
    }
   ],
   "source": [
    "db.known_datasets_"
   ]
  },
  {
   "cell_type": "code",
   "execution_count": 5,
   "metadata": {},
   "outputs": [
    {
     "data": {
      "text/plain": [
       "4159"
      ]
     },
     "execution_count": 5,
     "metadata": {},
     "output_type": "execute_result"
    }
   ],
   "source": [
    "kFILE_PATH = '/Users/milko/Local/Data/Disease/Kaggle-COVID-19/coders_against_covid/crowd-sourced-covid-19-testing-locations.csv'\n",
    "db.load_file(kFILE_PATH, 'coders_against_covid')"
   ]
  },
  {
   "cell_type": "code",
   "execution_count": 7,
   "metadata": {},
   "outputs": [
    {
     "data": {
      "text/plain": [
       "3193"
      ]
     },
     "execution_count": 7,
     "metadata": {},
     "output_type": "execute_result"
    }
   ],
   "source": [
    "kFILE_PATH = '/Users/milko/Local/Data/Disease/Kaggle-COVID-19/county_health_rankings/county_health_rankings/us-county-health-rankings-2020.csv'\n",
    "db.load_file(kFILE_PATH, 'county_health_rankings')"
   ]
  },
  {
   "cell_type": "code",
   "execution_count": 9,
   "metadata": {},
   "outputs": [
    {
     "data": {
      "text/plain": [
       "8591"
      ]
     },
     "execution_count": 9,
     "metadata": {},
     "output_type": "execute_result"
    }
   ],
   "source": [
    "kFILE_PATH = '/Users/milko/Local/Data/Disease/Kaggle-COVID-19/covid_19_canada_open_data_working_group/public-covid-19-cases-canada.csv'\n",
    "db.load_file(kFILE_PATH, 'canada_open_data_working_group')"
   ]
  },
  {
   "cell_type": "code",
   "execution_count": 11,
   "metadata": {},
   "outputs": [
    {
     "data": {
      "text/plain": [
       "8463"
      ]
     },
     "execution_count": 11,
     "metadata": {},
     "output_type": "execute_result"
    }
   ],
   "source": [
    "kFILE_PATH = '/Users/milko/Local/Data/Disease/Kaggle-COVID-19/covid_tracker_canada/covid-19-tracker-canada.csv'\n",
    "db.load_file(kFILE_PATH, 'covid_tracker_canada')"
   ]
  },
  {
   "cell_type": "code",
   "execution_count": 13,
   "metadata": {},
   "outputs": [
    {
     "data": {
      "text/plain": [
       "10"
      ]
     },
     "execution_count": 13,
     "metadata": {},
     "output_type": "execute_result"
    }
   ],
   "source": [
    "kFILE_PATH = '/Users/milko/Local/Data/Disease/Kaggle-COVID-19/covid_tracking_project/covid-sources-for-counties.csv'\n",
    "db.load_file(kFILE_PATH, 'covid_sources_for_counties')"
   ]
  },
  {
   "cell_type": "code",
   "execution_count": 15,
   "metadata": {},
   "outputs": [
    {
     "data": {
      "text/plain": [
       "66"
      ]
     },
     "execution_count": 15,
     "metadata": {},
     "output_type": "execute_result"
    }
   ],
   "source": [
    "kFILE_PATH = '/Users/milko/Local/Data/Disease/Kaggle-COVID-19/covid_tracking_project/covid-sources-for-us-states.csv'\n",
    "db.load_file(kFILE_PATH, 'covid_sources_for_states', do_clear=False)"
   ]
  },
  {
   "cell_type": "code",
   "execution_count": 18,
   "metadata": {},
   "outputs": [
    {
     "data": {
      "text/plain": [
       "1372"
      ]
     },
     "execution_count": 18,
     "metadata": {},
     "output_type": "execute_result"
    }
   ],
   "source": [
    "kFILE_PATH = '/Users/milko/Local/Data/Disease/Kaggle-COVID-19/covid_tracking_project/covid-statistics-by-us-states-daily-updates.csv'\n",
    "db.load_file(kFILE_PATH, 'covid_statistics_for_states_daily')"
   ]
  },
  {
   "cell_type": "code",
   "execution_count": 19,
   "metadata": {},
   "outputs": [
    {
     "data": {
      "text/plain": [
       "7904"
      ]
     },
     "execution_count": 19,
     "metadata": {},
     "output_type": "execute_result"
    }
   ],
   "source": [
    "kFILE_PATH = '/Users/milko/Local/Data/Disease/Kaggle-COVID-19/ECDC/current-data-on-the-geographic-distribution-of-covid-19-cases-worldwide.csv'\n",
    "db.load_file(kFILE_PATH, 'ecdc_worldwide')"
   ]
  },
  {
   "cell_type": "code",
   "execution_count": null,
   "metadata": {},
   "outputs": [],
   "source": []
  },
  {
   "cell_type": "code",
   "execution_count": 22,
   "metadata": {},
   "outputs": [],
   "source": [
    "reader = pd.read_csv('/Users/milko/Local/Data/Disease/Kaggle-COVID-19/esri_covid-19/esri_covid-19/cdcs-social-vulnerability-index-svi-2016-overall-svi-census-tract-level.csv', chunksize=100)\n",
    "for df in reader:\n",
    "    df.head()\n",
    "    break"
   ]
  },
  {
   "cell_type": "code",
   "execution_count": 28,
   "metadata": {},
   "outputs": [
    {
     "data": {
      "text/html": [
       "<div>\n",
       "<style scoped>\n",
       "    .dataframe tbody tr th:only-of-type {\n",
       "        vertical-align: middle;\n",
       "    }\n",
       "\n",
       "    .dataframe tbody tr th {\n",
       "        vertical-align: top;\n",
       "    }\n",
       "\n",
       "    .dataframe thead th {\n",
       "        text-align: right;\n",
       "    }\n",
       "</style>\n",
       "<table border=\"1\" class=\"dataframe\">\n",
       "  <thead>\n",
       "    <tr style=\"text-align: right;\">\n",
       "      <th></th>\n",
       "      <th>geometry</th>\n",
       "      <th>st</th>\n",
       "      <th>state</th>\n",
       "      <th>st_abbr</th>\n",
       "      <th>stcnty</th>\n",
       "      <th>county</th>\n",
       "      <th>fips</th>\n",
       "      <th>location</th>\n",
       "      <th>area_sqmi</th>\n",
       "      <th>e_totpop</th>\n",
       "      <th>...</th>\n",
       "      <th>f_theme4</th>\n",
       "      <th>f_total</th>\n",
       "      <th>e_uninsur</th>\n",
       "      <th>m_uninsur</th>\n",
       "      <th>ep_uninsur</th>\n",
       "      <th>mp_uninsur</th>\n",
       "      <th>e_daypop</th>\n",
       "      <th>objectid</th>\n",
       "      <th>shape_are</th>\n",
       "      <th>shape_len</th>\n",
       "    </tr>\n",
       "  </thead>\n",
       "  <tbody>\n",
       "    <tr>\n",
       "      <th>0</th>\n",
       "      <td>POLYGON ((-112.151608038 33.5091481213, -112.1...</td>\n",
       "      <td>4</td>\n",
       "      <td>ARIZONA</td>\n",
       "      <td>AZ</td>\n",
       "      <td>4013</td>\n",
       "      <td>Maricopa</td>\n",
       "      <td>4013109200</td>\n",
       "      <td>Census Tract 1092, Maricopa County, Arizona</td>\n",
       "      <td>1.002741</td>\n",
       "      <td>3333</td>\n",
       "      <td>...</td>\n",
       "      <td>3</td>\n",
       "      <td>8</td>\n",
       "      <td>1079</td>\n",
       "      <td>339</td>\n",
       "      <td>32.4</td>\n",
       "      <td>8.3</td>\n",
       "      <td>8549</td>\n",
       "      <td>2001</td>\n",
       "      <td>0.000252</td>\n",
       "      <td>0.063884</td>\n",
       "    </tr>\n",
       "    <tr>\n",
       "      <th>1</th>\n",
       "      <td>POLYGON ((-112.168817041 33.5021501194, -112.1...</td>\n",
       "      <td>4</td>\n",
       "      <td>ARIZONA</td>\n",
       "      <td>AZ</td>\n",
       "      <td>4013</td>\n",
       "      <td>Maricopa</td>\n",
       "      <td>4013109300</td>\n",
       "      <td>Census Tract 1093, Maricopa County, Arizona</td>\n",
       "      <td>0.989008</td>\n",
       "      <td>5421</td>\n",
       "      <td>...</td>\n",
       "      <td>1</td>\n",
       "      <td>7</td>\n",
       "      <td>1816</td>\n",
       "      <td>742</td>\n",
       "      <td>33.5</td>\n",
       "      <td>12.2</td>\n",
       "      <td>7223</td>\n",
       "      <td>2002</td>\n",
       "      <td>0.000248</td>\n",
       "      <td>0.063471</td>\n",
       "    </tr>\n",
       "    <tr>\n",
       "      <th>2</th>\n",
       "      <td>POLYGON ((-112.186457044 33.498685118, -112.18...</td>\n",
       "      <td>4</td>\n",
       "      <td>ARIZONA</td>\n",
       "      <td>AZ</td>\n",
       "      <td>4013</td>\n",
       "      <td>Maricopa</td>\n",
       "      <td>4013109400</td>\n",
       "      <td>Census Tract 1094, Maricopa County, Arizona</td>\n",
       "      <td>1.014406</td>\n",
       "      <td>8570</td>\n",
       "      <td>...</td>\n",
       "      <td>2</td>\n",
       "      <td>8</td>\n",
       "      <td>2960</td>\n",
       "      <td>985</td>\n",
       "      <td>34.5</td>\n",
       "      <td>8.7</td>\n",
       "      <td>7779</td>\n",
       "      <td>2003</td>\n",
       "      <td>0.000255</td>\n",
       "      <td>0.064184</td>\n",
       "    </tr>\n",
       "    <tr>\n",
       "      <th>3</th>\n",
       "      <td>POLYGON ((-112.203216048 33.4989021172, -112.2...</td>\n",
       "      <td>4</td>\n",
       "      <td>ARIZONA</td>\n",
       "      <td>AZ</td>\n",
       "      <td>4013</td>\n",
       "      <td>Maricopa</td>\n",
       "      <td>4013109500</td>\n",
       "      <td>Census Tract 1095, Maricopa County, Arizona</td>\n",
       "      <td>0.957511</td>\n",
       "      <td>5614</td>\n",
       "      <td>...</td>\n",
       "      <td>0</td>\n",
       "      <td>2</td>\n",
       "      <td>1571</td>\n",
       "      <td>392</td>\n",
       "      <td>28.0</td>\n",
       "      <td>6.2</td>\n",
       "      <td>4573</td>\n",
       "      <td>2004</td>\n",
       "      <td>0.000243</td>\n",
       "      <td>0.062563</td>\n",
       "    </tr>\n",
       "    <tr>\n",
       "      <th>4</th>\n",
       "      <td>POLYGON ((-112.237760054 33.496532115, -112.23...</td>\n",
       "      <td>4</td>\n",
       "      <td>ARIZONA</td>\n",
       "      <td>AZ</td>\n",
       "      <td>4013</td>\n",
       "      <td>Maricopa</td>\n",
       "      <td>4013109601</td>\n",
       "      <td>Census Tract 1096.01, Maricopa County, Arizona</td>\n",
       "      <td>0.475350</td>\n",
       "      <td>5866</td>\n",
       "      <td>...</td>\n",
       "      <td>1</td>\n",
       "      <td>6</td>\n",
       "      <td>1683</td>\n",
       "      <td>416</td>\n",
       "      <td>28.7</td>\n",
       "      <td>6.2</td>\n",
       "      <td>2111</td>\n",
       "      <td>2005</td>\n",
       "      <td>0.000120</td>\n",
       "      <td>0.050452</td>\n",
       "    </tr>\n",
       "    <tr>\n",
       "      <th>...</th>\n",
       "      <td>...</td>\n",
       "      <td>...</td>\n",
       "      <td>...</td>\n",
       "      <td>...</td>\n",
       "      <td>...</td>\n",
       "      <td>...</td>\n",
       "      <td>...</td>\n",
       "      <td>...</td>\n",
       "      <td>...</td>\n",
       "      <td>...</td>\n",
       "      <td>...</td>\n",
       "      <td>...</td>\n",
       "      <td>...</td>\n",
       "      <td>...</td>\n",
       "      <td>...</td>\n",
       "      <td>...</td>\n",
       "      <td>...</td>\n",
       "      <td>...</td>\n",
       "      <td>...</td>\n",
       "      <td>...</td>\n",
       "      <td>...</td>\n",
       "    </tr>\n",
       "    <tr>\n",
       "      <th>95</th>\n",
       "      <td>POLYGON ((-112.029942006 33.3996671127, -112.0...</td>\n",
       "      <td>4</td>\n",
       "      <td>ARIZONA</td>\n",
       "      <td>AZ</td>\n",
       "      <td>4013</td>\n",
       "      <td>Maricopa</td>\n",
       "      <td>4013116100</td>\n",
       "      <td>Census Tract 1161, Maricopa County, Arizona</td>\n",
       "      <td>0.933235</td>\n",
       "      <td>3612</td>\n",
       "      <td>...</td>\n",
       "      <td>1</td>\n",
       "      <td>8</td>\n",
       "      <td>1082</td>\n",
       "      <td>248</td>\n",
       "      <td>30.0</td>\n",
       "      <td>6.4</td>\n",
       "      <td>5382</td>\n",
       "      <td>2096</td>\n",
       "      <td>0.000234</td>\n",
       "      <td>0.063146</td>\n",
       "    </tr>\n",
       "    <tr>\n",
       "      <th>96</th>\n",
       "      <td>POLYGON ((-111.995561999 33.3853621125, -111.9...</td>\n",
       "      <td>4</td>\n",
       "      <td>ARIZONA</td>\n",
       "      <td>AZ</td>\n",
       "      <td>4013</td>\n",
       "      <td>Maricopa</td>\n",
       "      <td>4013116202</td>\n",
       "      <td>Census Tract 1162.02, Maricopa County, Arizona</td>\n",
       "      <td>0.558534</td>\n",
       "      <td>5723</td>\n",
       "      <td>...</td>\n",
       "      <td>1</td>\n",
       "      <td>5</td>\n",
       "      <td>952</td>\n",
       "      <td>416</td>\n",
       "      <td>16.7</td>\n",
       "      <td>6.3</td>\n",
       "      <td>2579</td>\n",
       "      <td>2097</td>\n",
       "      <td>0.000140</td>\n",
       "      <td>0.051104</td>\n",
       "    </tr>\n",
       "    <tr>\n",
       "      <th>97</th>\n",
       "      <td>POLYGON ((-112.030196005 33.3860291108, -112.0...</td>\n",
       "      <td>4</td>\n",
       "      <td>ARIZONA</td>\n",
       "      <td>AZ</td>\n",
       "      <td>4013</td>\n",
       "      <td>Maricopa</td>\n",
       "      <td>4013116203</td>\n",
       "      <td>Census Tract 1162.03, Maricopa County, Arizona</td>\n",
       "      <td>3.072933</td>\n",
       "      <td>4851</td>\n",
       "      <td>...</td>\n",
       "      <td>1</td>\n",
       "      <td>1</td>\n",
       "      <td>770</td>\n",
       "      <td>344</td>\n",
       "      <td>15.9</td>\n",
       "      <td>6.3</td>\n",
       "      <td>14147</td>\n",
       "      <td>2098</td>\n",
       "      <td>0.000772</td>\n",
       "      <td>0.128880</td>\n",
       "    </tr>\n",
       "    <tr>\n",
       "      <th>98</th>\n",
       "      <td>POLYGON ((-111.995374 33.4072941155, -111.9836...</td>\n",
       "      <td>4</td>\n",
       "      <td>ARIZONA</td>\n",
       "      <td>AZ</td>\n",
       "      <td>4013</td>\n",
       "      <td>Maricopa</td>\n",
       "      <td>4013116204</td>\n",
       "      <td>Census Tract 1162.04, Maricopa County, Arizona</td>\n",
       "      <td>0.997335</td>\n",
       "      <td>3689</td>\n",
       "      <td>...</td>\n",
       "      <td>0</td>\n",
       "      <td>1</td>\n",
       "      <td>1174</td>\n",
       "      <td>374</td>\n",
       "      <td>31.8</td>\n",
       "      <td>8.7</td>\n",
       "      <td>12249</td>\n",
       "      <td>2099</td>\n",
       "      <td>0.000250</td>\n",
       "      <td>0.063522</td>\n",
       "    </tr>\n",
       "    <tr>\n",
       "      <th>99</th>\n",
       "      <td>POLYGON ((-111.995563998 33.3829401122, -111.9...</td>\n",
       "      <td>4</td>\n",
       "      <td>ARIZONA</td>\n",
       "      <td>AZ</td>\n",
       "      <td>4013</td>\n",
       "      <td>Maricopa</td>\n",
       "      <td>4013116205</td>\n",
       "      <td>Census Tract 1162.05, Maricopa County, Arizona</td>\n",
       "      <td>0.440468</td>\n",
       "      <td>4779</td>\n",
       "      <td>...</td>\n",
       "      <td>1</td>\n",
       "      <td>4</td>\n",
       "      <td>1032</td>\n",
       "      <td>317</td>\n",
       "      <td>21.6</td>\n",
       "      <td>5.8</td>\n",
       "      <td>1443</td>\n",
       "      <td>2100</td>\n",
       "      <td>0.000110</td>\n",
       "      <td>0.048014</td>\n",
       "    </tr>\n",
       "  </tbody>\n",
       "</table>\n",
       "<p>100 rows × 128 columns</p>\n",
       "</div>"
      ],
      "text/plain": [
       "                                             geometry  st    state st_abbr  \\\n",
       "0   POLYGON ((-112.151608038 33.5091481213, -112.1...   4  ARIZONA      AZ   \n",
       "1   POLYGON ((-112.168817041 33.5021501194, -112.1...   4  ARIZONA      AZ   \n",
       "2   POLYGON ((-112.186457044 33.498685118, -112.18...   4  ARIZONA      AZ   \n",
       "3   POLYGON ((-112.203216048 33.4989021172, -112.2...   4  ARIZONA      AZ   \n",
       "4   POLYGON ((-112.237760054 33.496532115, -112.23...   4  ARIZONA      AZ   \n",
       "..                                                ...  ..      ...     ...   \n",
       "95  POLYGON ((-112.029942006 33.3996671127, -112.0...   4  ARIZONA      AZ   \n",
       "96  POLYGON ((-111.995561999 33.3853621125, -111.9...   4  ARIZONA      AZ   \n",
       "97  POLYGON ((-112.030196005 33.3860291108, -112.0...   4  ARIZONA      AZ   \n",
       "98  POLYGON ((-111.995374 33.4072941155, -111.9836...   4  ARIZONA      AZ   \n",
       "99  POLYGON ((-111.995563998 33.3829401122, -111.9...   4  ARIZONA      AZ   \n",
       "\n",
       "    stcnty    county        fips  \\\n",
       "0     4013  Maricopa  4013109200   \n",
       "1     4013  Maricopa  4013109300   \n",
       "2     4013  Maricopa  4013109400   \n",
       "3     4013  Maricopa  4013109500   \n",
       "4     4013  Maricopa  4013109601   \n",
       "..     ...       ...         ...   \n",
       "95    4013  Maricopa  4013116100   \n",
       "96    4013  Maricopa  4013116202   \n",
       "97    4013  Maricopa  4013116203   \n",
       "98    4013  Maricopa  4013116204   \n",
       "99    4013  Maricopa  4013116205   \n",
       "\n",
       "                                          location  area_sqmi  e_totpop  ...  \\\n",
       "0      Census Tract 1092, Maricopa County, Arizona   1.002741      3333  ...   \n",
       "1      Census Tract 1093, Maricopa County, Arizona   0.989008      5421  ...   \n",
       "2      Census Tract 1094, Maricopa County, Arizona   1.014406      8570  ...   \n",
       "3      Census Tract 1095, Maricopa County, Arizona   0.957511      5614  ...   \n",
       "4   Census Tract 1096.01, Maricopa County, Arizona   0.475350      5866  ...   \n",
       "..                                             ...        ...       ...  ...   \n",
       "95     Census Tract 1161, Maricopa County, Arizona   0.933235      3612  ...   \n",
       "96  Census Tract 1162.02, Maricopa County, Arizona   0.558534      5723  ...   \n",
       "97  Census Tract 1162.03, Maricopa County, Arizona   3.072933      4851  ...   \n",
       "98  Census Tract 1162.04, Maricopa County, Arizona   0.997335      3689  ...   \n",
       "99  Census Tract 1162.05, Maricopa County, Arizona   0.440468      4779  ...   \n",
       "\n",
       "    f_theme4  f_total  e_uninsur  m_uninsur  ep_uninsur  mp_uninsur  e_daypop  \\\n",
       "0          3        8       1079        339        32.4         8.3      8549   \n",
       "1          1        7       1816        742        33.5        12.2      7223   \n",
       "2          2        8       2960        985        34.5         8.7      7779   \n",
       "3          0        2       1571        392        28.0         6.2      4573   \n",
       "4          1        6       1683        416        28.7         6.2      2111   \n",
       "..       ...      ...        ...        ...         ...         ...       ...   \n",
       "95         1        8       1082        248        30.0         6.4      5382   \n",
       "96         1        5        952        416        16.7         6.3      2579   \n",
       "97         1        1        770        344        15.9         6.3     14147   \n",
       "98         0        1       1174        374        31.8         8.7     12249   \n",
       "99         1        4       1032        317        21.6         5.8      1443   \n",
       "\n",
       "    objectid  shape_are  shape_len  \n",
       "0       2001   0.000252   0.063884  \n",
       "1       2002   0.000248   0.063471  \n",
       "2       2003   0.000255   0.064184  \n",
       "3       2004   0.000243   0.062563  \n",
       "4       2005   0.000120   0.050452  \n",
       "..       ...        ...        ...  \n",
       "95      2096   0.000234   0.063146  \n",
       "96      2097   0.000140   0.051104  \n",
       "97      2098   0.000772   0.128880  \n",
       "98      2099   0.000250   0.063522  \n",
       "99      2100   0.000110   0.048014  \n",
       "\n",
       "[100 rows x 128 columns]"
      ]
     },
     "execution_count": 28,
     "metadata": {},
     "output_type": "execute_result"
    }
   ],
   "source": [
    "df.head(300)"
   ]
  },
  {
   "cell_type": "code",
   "execution_count": 29,
   "metadata": {},
   "outputs": [
    {
     "data": {
      "text/plain": [
       "'POLYGON ((-111.995374 33.4072941155, -111.983677998 33.4073191162, -111.978398997 33.4073331164, -111.978270997 33.4073331164, -111.978305996 33.4000531154, -111.978322996 33.3927861144, -111.978436996 33.3927851144, -111.981844997 33.3927571143, -111.986003997 33.392727114, -111.986556997 33.392721114, -111.995557999 33.3926591135, -111.995374 33.4072941155))'"
      ]
     },
     "execution_count": 29,
     "metadata": {},
     "output_type": "execute_result"
    }
   ],
   "source": [
    "import re\n",
    "match = re.search('\\(\\(((.+) (.+)),+\\)\\)', df['geometry'][0])"
   ]
  },
  {
   "cell_type": "code",
   "execution_count": null,
   "metadata": {},
   "outputs": [],
   "source": []
  },
  {
   "cell_type": "code",
   "execution_count": null,
   "metadata": {},
   "outputs": [],
   "source": []
  }
 ],
 "metadata": {
  "kernelspec": {
   "display_name": "Python 3",
   "language": "python",
   "name": "python3"
  },
  "language_info": {
   "codemirror_mode": {
    "name": "ipython",
    "version": 3
   },
   "file_extension": ".py",
   "mimetype": "text/x-python",
   "name": "python",
   "nbconvert_exporter": "python",
   "pygments_lexer": "ipython3",
   "version": "3.7.6"
  }
 },
 "nbformat": 4,
 "nbformat_minor": 4
}
