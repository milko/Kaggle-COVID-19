{
 "cells": [
  {
   "cell_type": "code",
   "execution_count": 1,
   "metadata": {},
   "outputs": [],
   "source": [
    "import re\n",
    "import numpy as np\n",
    "import pandas as pd\n",
    "from kaggle_covid_19.database import *"
   ]
  },
  {
   "cell_type": "code",
   "execution_count": 2,
   "metadata": {},
   "outputs": [],
   "source": [
    "db = Database(\n",
    "    user='playgrounds',\n",
    "    pswd='playgrounds'\n",
    ")"
   ]
  },
  {
   "cell_type": "code",
   "execution_count": 3,
   "metadata": {},
   "outputs": [
    {
     "data": {
      "text/plain": [
       "['coders_against_covid',\n",
       " 'county_health_rankings',\n",
       " 'canada_open_data_working_group',\n",
       " 'covid_tracker_canada',\n",
       " 'covid_sources_for_counties',\n",
       " 'covid_sources_for_states',\n",
       " 'covid_statistics_for_states_daily',\n",
       " 'ecdc_worldwide',\n",
       " 'cdcs_social_vulnerability_index_tract_level',\n",
       " 'cdcs_social_vulnerability_index_county_level',\n",
       " 'cdphe_health_facilities',\n",
       " 'coronavirus_world_airport_impacts',\n",
       " 'definitive_healthcare_usa_hospital_beds',\n",
       " 'border_wait_times_at_us_canada_border',\n",
       " 'github_belgium_regions',\n",
       " 'github_italy_regions',\n",
       " 'github_uk_regions',\n",
       " 'github_france_regions',\n",
       " 'github_spain_regions',\n",
       " 'harvard_global_health_institute_20',\n",
       " 'harvard_global_health_institute_40',\n",
       " 'harvard_global_health_institute_60']"
      ]
     },
     "execution_count": 3,
     "metadata": {},
     "output_type": "execute_result"
    }
   ],
   "source": [
    "db.known_datasets_"
   ]
  },
  {
   "cell_type": "code",
   "execution_count": 4,
   "metadata": {},
   "outputs": [
    {
     "data": {
      "text/plain": [
       "4159"
      ]
     },
     "execution_count": 4,
     "metadata": {},
     "output_type": "execute_result"
    }
   ],
   "source": [
    "kFILE_PATH = '/Users/milko/Local/Data/Disease/Kaggle-COVID-19/coders_against_covid/crowd-sourced-covid-19-testing-locations.csv'\n",
    "db.load_file(kFILE_PATH, 'coders_against_covid')"
   ]
  },
  {
   "cell_type": "code",
   "execution_count": 5,
   "metadata": {},
   "outputs": [
    {
     "data": {
      "text/plain": [
       "3193"
      ]
     },
     "execution_count": 5,
     "metadata": {},
     "output_type": "execute_result"
    }
   ],
   "source": [
    "kFILE_PATH = '/Users/milko/Local/Data/Disease/Kaggle-COVID-19/county_health_rankings/county_health_rankings/us-county-health-rankings-2020.csv'\n",
    "db.load_file(kFILE_PATH, 'county_health_rankings')"
   ]
  },
  {
   "cell_type": "code",
   "execution_count": 6,
   "metadata": {},
   "outputs": [
    {
     "data": {
      "text/plain": [
       "8591"
      ]
     },
     "execution_count": 6,
     "metadata": {},
     "output_type": "execute_result"
    }
   ],
   "source": [
    "kFILE_PATH = '/Users/milko/Local/Data/Disease/Kaggle-COVID-19/covid_19_canada_open_data_working_group/public-covid-19-cases-canada.csv'\n",
    "db.load_file(kFILE_PATH, 'canada_open_data_working_group')"
   ]
  },
  {
   "cell_type": "code",
   "execution_count": 7,
   "metadata": {},
   "outputs": [
    {
     "data": {
      "text/plain": [
       "8463"
      ]
     },
     "execution_count": 7,
     "metadata": {},
     "output_type": "execute_result"
    }
   ],
   "source": [
    "kFILE_PATH = '/Users/milko/Local/Data/Disease/Kaggle-COVID-19/covid_tracker_canada/covid-19-tracker-canada.csv'\n",
    "db.load_file(kFILE_PATH, 'covid_tracker_canada')"
   ]
  },
  {
   "cell_type": "code",
   "execution_count": 8,
   "metadata": {},
   "outputs": [
    {
     "data": {
      "text/plain": [
       "10"
      ]
     },
     "execution_count": 8,
     "metadata": {},
     "output_type": "execute_result"
    }
   ],
   "source": [
    "kFILE_PATH = '/Users/milko/Local/Data/Disease/Kaggle-COVID-19/covid_tracking_project/covid-sources-for-counties.csv'\n",
    "db.load_file(kFILE_PATH, 'covid_sources_for_counties')"
   ]
  },
  {
   "cell_type": "code",
   "execution_count": 9,
   "metadata": {},
   "outputs": [
    {
     "data": {
      "text/plain": [
       "66"
      ]
     },
     "execution_count": 9,
     "metadata": {},
     "output_type": "execute_result"
    }
   ],
   "source": [
    "kFILE_PATH = '/Users/milko/Local/Data/Disease/Kaggle-COVID-19/covid_tracking_project/covid-sources-for-us-states.csv'\n",
    "db.load_file(kFILE_PATH, 'covid_sources_for_states', do_clear=False)"
   ]
  },
  {
   "cell_type": "code",
   "execution_count": 10,
   "metadata": {},
   "outputs": [
    {
     "data": {
      "text/plain": [
       "1372"
      ]
     },
     "execution_count": 10,
     "metadata": {},
     "output_type": "execute_result"
    }
   ],
   "source": [
    "kFILE_PATH = '/Users/milko/Local/Data/Disease/Kaggle-COVID-19/covid_tracking_project/covid-statistics-by-us-states-daily-updates.csv'\n",
    "db.load_file(kFILE_PATH, 'covid_statistics_for_states_daily')"
   ]
  },
  {
   "cell_type": "code",
   "execution_count": 11,
   "metadata": {},
   "outputs": [
    {
     "data": {
      "text/plain": [
       "7904"
      ]
     },
     "execution_count": 11,
     "metadata": {},
     "output_type": "execute_result"
    }
   ],
   "source": [
    "kFILE_PATH = '/Users/milko/Local/Data/Disease/Kaggle-COVID-19/ECDC/current-data-on-the-geographic-distribution-of-covid-19-cases-worldwide.csv'\n",
    "db.load_file(kFILE_PATH, 'ecdc_worldwide')"
   ]
  },
  {
   "cell_type": "code",
   "execution_count": 12,
   "metadata": {},
   "outputs": [
    {
     "data": {
      "text/plain": [
       "72836"
      ]
     },
     "execution_count": 12,
     "metadata": {},
     "output_type": "execute_result"
    }
   ],
   "source": [
    "kFILE_PATH = '/Users/milko/Local/Data/Disease/Kaggle-COVID-19/esri_covid-19/esri_covid-19/cdcs-social-vulnerability-index-svi-2016-overall-svi-census-tract-level.csv'\n",
    "db.load_file(kFILE_PATH, 'cdcs_social_vulnerability_index_tract_level')"
   ]
  },
  {
   "cell_type": "code",
   "execution_count": 13,
   "metadata": {},
   "outputs": [
    {
     "data": {
      "text/plain": [
       "3142"
      ]
     },
     "execution_count": 13,
     "metadata": {},
     "output_type": "execute_result"
    }
   ],
   "source": [
    "kFILE_PATH = '/Users/milko/Local/Data/Disease/Kaggle-COVID-19/esri_covid-19/esri_covid-19/cdcs-social-vulnerability-index-svi-2016-overall-svi-county-level.csv'\n",
    "db.load_file(kFILE_PATH, 'cdcs_social_vulnerability_index_county_level')"
   ]
  },
  {
   "cell_type": "code",
   "execution_count": 14,
   "metadata": {},
   "outputs": [
    {
     "data": {
      "text/plain": [
       "3580"
      ]
     },
     "execution_count": 14,
     "metadata": {},
     "output_type": "execute_result"
    }
   ],
   "source": [
    "kFILE_PATH = '/Users/milko/Local/Data/Disease/Kaggle-COVID-19/esri_covid-19/esri_covid-19/cdphe-health-facilities.csv'\n",
    "db.load_file(kFILE_PATH, 'cdphe_health_facilities')"
   ]
  },
  {
   "cell_type": "code",
   "execution_count": 15,
   "metadata": {},
   "outputs": [
    {
     "data": {
      "text/plain": [
       "6581"
      ]
     },
     "execution_count": 15,
     "metadata": {},
     "output_type": "execute_result"
    }
   ],
   "source": [
    "kFILE_PATH = '/Users/milko/Local/Data/Disease/Kaggle-COVID-19/esri_covid-19/esri_covid-19/definitive-healthcare-usa-hospital-beds.csv'\n",
    "db.load_file(kFILE_PATH, 'definitive_healthcare_usa_hospital_beds')"
   ]
  },
  {
   "cell_type": "code",
   "execution_count": 16,
   "metadata": {},
   "outputs": [
    {
     "data": {
      "text/plain": [
       "145049"
      ]
     },
     "execution_count": 16,
     "metadata": {},
     "output_type": "execute_result"
    }
   ],
   "source": [
    "kFILE_PATH = '/Users/milko/Local/Data/Disease/Kaggle-COVID-19/geotab/border-wait-times-at-us-canada-border.csv'\n",
    "db.load_file(kFILE_PATH, 'border_wait_times_at_us_canada_border')"
   ]
  },
  {
   "cell_type": "code",
   "execution_count": 17,
   "metadata": {},
   "outputs": [
    {
     "data": {
      "text/plain": [
       "31"
      ]
     },
     "execution_count": 17,
     "metadata": {},
     "output_type": "execute_result"
    }
   ],
   "source": [
    "kFILE_PATH = '/Users/milko/Local/Data/Disease/Kaggle-COVID-19/github/cases-and-deaths-by-regions-in-belgium.csv'\n",
    "db.load_file(kFILE_PATH, 'github_belgium_regions')"
   ]
  },
  {
   "cell_type": "code",
   "execution_count": 18,
   "metadata": {},
   "outputs": [
    {
     "data": {
      "text/plain": [
       "777"
      ]
     },
     "execution_count": 18,
     "metadata": {},
     "output_type": "execute_result"
    }
   ],
   "source": [
    "kFILE_PATH = '/Users/milko/Local/Data/Disease/Kaggle-COVID-19/github/covid-19-italy-situation-monitoring-by-region.csv'\n",
    "db.load_file(kFILE_PATH, 'github_italy_regions')"
   ]
  },
  {
   "cell_type": "code",
   "execution_count": 19,
   "metadata": {},
   "outputs": [
    {
     "data": {
      "text/plain": [
       "4739"
      ]
     },
     "execution_count": 19,
     "metadata": {},
     "output_type": "execute_result"
    }
   ],
   "source": [
    "kFILE_PATH = '/Users/milko/Local/Data/Disease/Kaggle-COVID-19/github/covid-19-uk-historical-data.csv'\n",
    "db.load_file(kFILE_PATH, 'github_uk_regions')"
   ]
  },
  {
   "cell_type": "code",
   "execution_count": 20,
   "metadata": {},
   "outputs": [
    {
     "data": {
      "text/plain": [
       "4528"
      ]
     },
     "execution_count": 20,
     "metadata": {},
     "output_type": "execute_result"
    }
   ],
   "source": [
    "kFILE_PATH = '/Users/milko/Local/Data/Disease/Kaggle-COVID-19/github/covid19-epidemic-french-national-data.csv'\n",
    "db.load_file(kFILE_PATH, 'github_france_regions')"
   ]
  },
  {
   "cell_type": "code",
   "execution_count": 21,
   "metadata": {},
   "outputs": [
    {
     "data": {
      "text/plain": [
       "589"
      ]
     },
     "execution_count": 21,
     "metadata": {},
     "output_type": "execute_result"
    }
   ],
   "source": [
    "kFILE_PATH = '/Users/milko/Local/Data/Disease/Kaggle-COVID-19/github/covid19-spain-cases.csv'\n",
    "db.load_file(kFILE_PATH, 'github_spain_regions')"
   ]
  },
  {
   "cell_type": "code",
   "execution_count": 28,
   "metadata": {},
   "outputs": [
    {
     "data": {
      "text/plain": [
       "54"
      ]
     },
     "execution_count": 28,
     "metadata": {},
     "output_type": "execute_result"
    }
   ],
   "source": [
    "kFILE_PATH = '/Users/milko/Local/Data/Disease/Kaggle-COVID-19/harvard_global_health_institute/hospital-capacity-by-state-20-population-contracted.csv'\n",
    "db.load_file(kFILE_PATH, 'harvard_global_health_institute_20')"
   ]
  },
  {
   "cell_type": "code",
   "execution_count": 29,
   "metadata": {},
   "outputs": [
    {
     "data": {
      "text/plain": [
       "108"
      ]
     },
     "execution_count": 29,
     "metadata": {},
     "output_type": "execute_result"
    }
   ],
   "source": [
    "kFILE_PATH = '/Users/milko/Local/Data/Disease/Kaggle-COVID-19/harvard_global_health_institute/hospital-capacity-by-state-40-population-contracted.csv'\n",
    "db.load_file(kFILE_PATH, 'harvard_global_health_institute_40', do_clear=False)"
   ]
  },
  {
   "cell_type": "code",
   "execution_count": 30,
   "metadata": {},
   "outputs": [
    {
     "data": {
      "text/plain": [
       "162"
      ]
     },
     "execution_count": 30,
     "metadata": {},
     "output_type": "execute_result"
    }
   ],
   "source": [
    "kFILE_PATH = '/Users/milko/Local/Data/Disease/Kaggle-COVID-19/harvard_global_health_institute/hospital-capacity-by-state-60-population-contracted.csv'\n",
    "db.load_file(kFILE_PATH, 'harvard_global_health_institute_60', do_clear=False)"
   ]
  },
  {
   "cell_type": "code",
   "execution_count": null,
   "metadata": {},
   "outputs": [],
   "source": []
  }
 ],
 "metadata": {
  "kernelspec": {
   "display_name": "Python 3",
   "language": "python",
   "name": "python3"
  },
  "language_info": {
   "codemirror_mode": {
    "name": "ipython",
    "version": 3
   },
   "file_extension": ".py",
   "mimetype": "text/x-python",
   "name": "python",
   "nbconvert_exporter": "python",
   "pygments_lexer": "ipython3",
   "version": "3.7.6"
  }
 },
 "nbformat": 4,
 "nbformat_minor": 4
}
